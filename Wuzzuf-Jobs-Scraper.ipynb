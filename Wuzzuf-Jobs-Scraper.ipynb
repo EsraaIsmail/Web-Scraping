{
 "cells": [
  {
   "cell_type": "code",
   "execution_count": 213,
   "id": "8157deaf",
   "metadata": {},
   "outputs": [],
   "source": [
    "#import libs \n",
    "import pandas as pd \n",
    "from selenium import webdriver\n",
    "from selenium.webdriver.chrome.options import Options\n",
    "import time \n",
    "import threading as th "
   ]
  },
  {
   "cell_type": "markdown",
   "id": "5125b775",
   "metadata": {},
   "source": [
    "### Open chrome driver session"
   ]
  },
  {
   "cell_type": "code",
   "execution_count": 219,
   "id": "cd9ceb14",
   "metadata": {},
   "outputs": [
    {
     "name": "stderr",
     "output_type": "stream",
     "text": [
      "/tmp/ipykernel_3910/2319317835.py:5: DeprecationWarning: executable_path has been deprecated, please pass in a Service object\n",
      "  driver = webdriver.Chrome(executable_path = ChromePath)\n"
     ]
    }
   ],
   "source": [
    "#chrome driver path \n",
    "ChromePath = '/home/roaa/chromedriver_linux64/chromedriver'\n",
    "option = webdriver.ChromeOptions()\n",
    "option.add_argument('-disk-cache-size=30000000000')\n",
    "driver = webdriver.Chrome(executable_path = ChromePath)\n",
    "#open Wuzzuf \n",
    "website =  \"https://wuzzuf.net/jobs/egypt\"\n",
    "driver.get(website);"
   ]
  },
  {
   "cell_type": "markdown",
   "id": "3f476a27",
   "metadata": {},
   "source": [
    "### Search by skill "
   ]
  },
  {
   "cell_type": "code",
   "execution_count": 220,
   "id": "033213a1",
   "metadata": {},
   "outputs": [
    {
     "name": "stderr",
     "output_type": "stream",
     "text": [
      "/tmp/ipykernel_3910/2434252280.py:3: DeprecationWarning: find_element_by_* commands are deprecated. Please use find_element() instead\n",
      "  SearchPlace = driver.find_element_by_css_selector(\"input[class = 'search-bar-input']\")\n",
      "/tmp/ipykernel_3910/2434252280.py:6: DeprecationWarning: find_element_by_* commands are deprecated. Please use find_element() instead\n",
      "  Searchbtn = driver.find_element_by_css_selector(\"button[class = 'btn btn-primary search-btn']\")\n"
     ]
    }
   ],
   "source": [
    "#enter search skill \n",
    "SearchSkill = 'python'\n",
    "SearchPlace = driver.find_element_by_css_selector(\"input[class = 'search-bar-input']\")\n",
    "SearchPlace.send_keys(SearchSkill)\n",
    "#click to search button\n",
    "Searchbtn = driver.find_element_by_css_selector(\"button[class = 'btn btn-primary search-btn']\")\n",
    "Searchbtn.click()"
   ]
  },
  {
   "cell_type": "markdown",
   "id": "5c85e6ca",
   "metadata": {},
   "source": [
    "### Scraper "
   ]
  },
  {
   "cell_type": "code",
   "execution_count": 221,
   "id": "cd5d044d",
   "metadata": {},
   "outputs": [],
   "source": [
    "df = pd.DataFrame(columns=['Job title','Company','Location'])"
   ]
  },
  {
   "cell_type": "code",
   "execution_count": 222,
   "id": "1152ea6d",
   "metadata": {},
   "outputs": [
    {
     "name": "stderr",
     "output_type": "stream",
     "text": [
      "/tmp/ipykernel_3910/4010342478.py:4: DeprecationWarning: find_elements_by_* commands are deprecated. Please use find_elements() instead\n",
      "  jobs= driver.find_elements_by_css_selector(\"div[class='css-1gatmva e1v1l3u10']\")\n"
     ]
    }
   ],
   "source": [
    "\n",
    "for i in range(1,20):\n",
    "    try:\n",
    "        time.sleep(2)\n",
    "        jobs= driver.find_elements_by_css_selector(\"div[class='css-1gatmva e1v1l3u10']\")\n",
    "        for job in jobs :\n",
    "            Job_title = job.find_element_by_css_selector(\"h2[class='css-m604qf']\").text\n",
    "            Company = job.find_element_by_css_selector(\"a[class='css-17s97q8']\").text\n",
    "            Location = job.find_element_by_css_selector(\"span[class = 'css-5wys0k']\").text\n",
    "            df = df.append({'Job title': Job_title,'Company':Company,'Location':Location}, ignore_index=True)\n",
    "        #driver.find_element_by_css_selector(\"button[class='css-zye1os ezfki8j0']\").click()\n",
    "        driver.get(\"https://wuzzuf.net/search/jobs/?a=hpb&q=python&start=\"+str(i));\n",
    "    except : # the element wasn't found\n",
    "        break # exit from the loop\n",
    "\n"
   ]
  },
  {
   "cell_type": "code",
   "execution_count": 223,
   "id": "61e2ea05",
   "metadata": {},
   "outputs": [
    {
     "data": {
      "text/html": [
       "<div>\n",
       "<style scoped>\n",
       "    .dataframe tbody tr th:only-of-type {\n",
       "        vertical-align: middle;\n",
       "    }\n",
       "\n",
       "    .dataframe tbody tr th {\n",
       "        vertical-align: top;\n",
       "    }\n",
       "\n",
       "    .dataframe thead th {\n",
       "        text-align: right;\n",
       "    }\n",
       "</style>\n",
       "<table border=\"1\" class=\"dataframe\">\n",
       "  <thead>\n",
       "    <tr style=\"text-align: right;\">\n",
       "      <th></th>\n",
       "      <th>Job title</th>\n",
       "      <th>Company</th>\n",
       "      <th>Location</th>\n",
       "    </tr>\n",
       "  </thead>\n",
       "  <tbody>\n",
       "    <tr>\n",
       "      <th>0</th>\n",
       "      <td>Python Developer</td>\n",
       "      <td>Shebak -</td>\n",
       "      <td>Smart Village, Giza, Egypt</td>\n",
       "    </tr>\n",
       "    <tr>\n",
       "      <th>1</th>\n",
       "      <td>Python Programmer</td>\n",
       "      <td>Right IT Group -</td>\n",
       "      <td>Yanbu, Saudi Arabia</td>\n",
       "    </tr>\n",
       "    <tr>\n",
       "      <th>2</th>\n",
       "      <td>Senior Python Developer - Remote</td>\n",
       "      <td>Nile Bits, LLC -</td>\n",
       "      <td>6th of October, Giza, Egypt</td>\n",
       "    </tr>\n",
       "    <tr>\n",
       "      <th>3</th>\n",
       "      <td>Python Developer</td>\n",
       "      <td>RUUF -</td>\n",
       "      <td>Heliopolis, Cairo, Egypt</td>\n",
       "    </tr>\n",
       "    <tr>\n",
       "      <th>4</th>\n",
       "      <td>Python Developer (Odoo)</td>\n",
       "      <td>ZAD Solutions -</td>\n",
       "      <td>Mohandessin, Giza, Egypt</td>\n",
       "    </tr>\n",
       "    <tr>\n",
       "      <th>...</th>\n",
       "      <td>...</td>\n",
       "      <td>...</td>\n",
       "      <td>...</td>\n",
       "    </tr>\n",
       "    <tr>\n",
       "      <th>203</th>\n",
       "      <td>Automation Test Engineer</td>\n",
       "      <td>Confidential -</td>\n",
       "      <td>Cairo, Egypt</td>\n",
       "    </tr>\n",
       "    <tr>\n",
       "      <th>204</th>\n",
       "      <td>Senior Cloud Solution Architect</td>\n",
       "      <td>Edrak United -</td>\n",
       "      <td>Cairo, Egypt</td>\n",
       "    </tr>\n",
       "    <tr>\n",
       "      <th>205</th>\n",
       "      <td>Full Stack Developer</td>\n",
       "      <td>TTC Technologies -</td>\n",
       "      <td>Heliopolis, Cairo, Egypt</td>\n",
       "    </tr>\n",
       "    <tr>\n",
       "      <th>206</th>\n",
       "      <td>Oracle APEX Developer</td>\n",
       "      <td>Edrak United -</td>\n",
       "      <td>Cairo, Egypt</td>\n",
       "    </tr>\n",
       "    <tr>\n",
       "      <th>207</th>\n",
       "      <td>Senior Automation Test Engineer</td>\n",
       "      <td>Kaizen Firm -</td>\n",
       "      <td>Cairo, Egypt</td>\n",
       "    </tr>\n",
       "  </tbody>\n",
       "</table>\n",
       "<p>208 rows × 3 columns</p>\n",
       "</div>"
      ],
      "text/plain": [
       "                            Job title             Company  \\\n",
       "0                    Python Developer            Shebak -   \n",
       "1                   Python Programmer    Right IT Group -   \n",
       "2    Senior Python Developer - Remote    Nile Bits, LLC -   \n",
       "3                    Python Developer              RUUF -   \n",
       "4             Python Developer (Odoo)     ZAD Solutions -   \n",
       "..                                ...                 ...   \n",
       "203          Automation Test Engineer      Confidential -   \n",
       "204   Senior Cloud Solution Architect      Edrak United -   \n",
       "205              Full Stack Developer  TTC Technologies -   \n",
       "206             Oracle APEX Developer      Edrak United -   \n",
       "207   Senior Automation Test Engineer       Kaizen Firm -   \n",
       "\n",
       "                        Location  \n",
       "0     Smart Village, Giza, Egypt  \n",
       "1            Yanbu, Saudi Arabia  \n",
       "2    6th of October, Giza, Egypt  \n",
       "3       Heliopolis, Cairo, Egypt  \n",
       "4       Mohandessin, Giza, Egypt  \n",
       "..                           ...  \n",
       "203                 Cairo, Egypt  \n",
       "204                 Cairo, Egypt  \n",
       "205     Heliopolis, Cairo, Egypt  \n",
       "206                 Cairo, Egypt  \n",
       "207                 Cairo, Egypt  \n",
       "\n",
       "[208 rows x 3 columns]"
      ]
     },
     "execution_count": 223,
     "metadata": {},
     "output_type": "execute_result"
    }
   ],
   "source": [
    "df"
   ]
  },
  {
   "cell_type": "code",
   "execution_count": null,
   "id": "e3bfc782",
   "metadata": {},
   "outputs": [],
   "source": []
  }
 ],
 "metadata": {
  "kernelspec": {
   "display_name": "Python 3 (ipykernel)",
   "language": "python",
   "name": "python3"
  },
  "language_info": {
   "codemirror_mode": {
    "name": "ipython",
    "version": 3
   },
   "file_extension": ".py",
   "mimetype": "text/x-python",
   "name": "python",
   "nbconvert_exporter": "python",
   "pygments_lexer": "ipython3",
   "version": "3.8.10"
  }
 },
 "nbformat": 4,
 "nbformat_minor": 5
}
